{
 "cells": [
  {
   "cell_type": "markdown",
   "id": "4c15891b",
   "metadata": {},
   "source": [
    "# EDA on Wine Quality Dataset\n",
    "\n",
    "Dataset source: https://www.kaggle.com/yasserh/wine-quality-dataset"
   ]
  },
  {
   "cell_type": "markdown",
   "id": "6beeeecf",
   "metadata": {},
   "source": [
    "## Description:\n",
    "\n",
    "This datasets is related to red variants of the Portuguese \"Vinho Verde\" wine.The dataset describes the amount of various chemicals present in wine and their effect on it's quality. The datasets can be viewed as classification or regression tasks. The classes are ordered and not balanced (e.g. there are much more normal wines than excellent or poor ones).Your task is to predict the quality of wine using the given data.\n",
    "\n",
    "A simple yet challenging project, to anticipate the quality of wine.\n",
    "The complexity arises due to the fact that the dataset has fewer samples, & is highly imbalanced."
   ]
  },
  {
   "cell_type": "markdown",
   "id": "10886c71",
   "metadata": {},
   "source": [
    "## Description of Dataset:\n",
    "\n",
    "* `volatile acidity` :   Volatile acidity is the gaseous acids present in wine. The amount of acetic acid in wine, which at too high of levels can lead to an unpleasant, vinegar taste;\n",
    "* `fixed acidity` :   Primary fixed acids found in wine are tartaric, succinic, citric, and malic. Most acids involved with wine or fixed or nonvolatile;\n",
    "* `residual sugar` :   Amount of sugar left after fermentation. The amount of sugar remaining after fermentation stops, it’s rare to find wines with less than 1 gram/liter and wines with greater than 45 grams/liter are considered sweet;\n",
    "* `citric acid` :    It is weak organic acid, found in citrus fruits naturally. If found in small quantities, citric acid can add ‘freshness’ and flavor to wines;\n",
    "* `chlorides` :   Amount of salt present in wine;\n",
    "* `free sulfur dioxide` :   So2 is used for prevention of wine by oxidation and microbial spoilage. The free form of SO2 exists in equilibrium between molecular SO2 (as a dissolved gas) and bisul-fite ion; it prevents microbial growth and the oxidation of wine;\n",
    "* `total sulfur dioxide`: amount of free and bound forms of S02; in low concentrations, SO2 is mostly undetectable in wine, but at free SO2 concentrations over 50 ppm, SO2 becomes evident in the nose and taste of wine;\n",
    "* `pH` :   In wine pH is used for checking acidity.Describes how acidic or basic a wine is on a scale from 0 (very acidic) to 14 (very basic); most wines are between 3–4 on the pH scale;\n",
    "* `density` : the density of water is close to that of water depending on the percent alcohol and sugar content;\n",
    "* `sulphates` :    Added sulfites preserve freshness and protect wine from oxidation, and bacteria. A wine additive which can contribute to sulfur dioxide gas (S02) levels, which acts as an antimicrobial and antioxidant;\n",
    "* `alcohol` :   Percent of alcohol present in wine;\n",
    "* `quality`:output variable (based on sensory data, score between 0 and 10);\n",
    "* `id`."
   ]
  },
  {
   "cell_type": "markdown",
   "id": "36e574ac",
   "metadata": {},
   "source": [
    "## Personal motivation for picking this dataset:\n",
    "\n",
    "I don't drink a lot, so when I do want to enjoy a glass of wine with my family or my friends, I want to be able to choose a good quality wine based on the wine's characteristics and type.\n"
   ]
  },
  {
   "cell_type": "code",
   "execution_count": 2,
   "id": "404ecae3",
   "metadata": {},
   "outputs": [],
   "source": [
    "# Importing libraries and other necessary dependencies\n",
    "import numpy as np\n",
    "import pandas as pd\n",
    "import matplotlib.pyplot as plt\n",
    "import seaborn as sns\n",
    "%matplotlib inline"
   ]
  },
  {
   "cell_type": "code",
   "execution_count": null,
   "id": "0054f847",
   "metadata": {},
   "outputs": [],
   "source": []
  }
 ],
 "metadata": {
  "kernelspec": {
   "display_name": "Python 3 (ipykernel)",
   "language": "python",
   "name": "python3"
  },
  "language_info": {
   "codemirror_mode": {
    "name": "ipython",
    "version": 3
   },
   "file_extension": ".py",
   "mimetype": "text/x-python",
   "name": "python",
   "nbconvert_exporter": "python",
   "pygments_lexer": "ipython3",
   "version": "3.8.12"
  }
 },
 "nbformat": 4,
 "nbformat_minor": 5
}
