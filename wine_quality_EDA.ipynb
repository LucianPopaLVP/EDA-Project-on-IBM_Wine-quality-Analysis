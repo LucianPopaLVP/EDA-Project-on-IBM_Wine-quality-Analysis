{
 "cells": [
  {
   "cell_type": "markdown",
   "id": "bd137351",
   "metadata": {},
   "source": [
    "# EDA on Wine Quality Dataset\n",
    "\n",
    "Dataset source: https://www.kaggle.com/yasserh/wine-quality-dataset"
   ]
  },
  {
   "cell_type": "markdown",
   "id": "a449bcaa",
   "metadata": {},
   "source": [
    "## Description:\n",
    "\n",
    "This datasets is related to red variants of the Portuguese \"Vinho Verde\" wine.The dataset describes the amount of various chemicals present in wine and their effect on it's quality. The datasets can be viewed as classification or regression tasks. The classes are ordered and not balanced (e.g. there are much more normal wines than excellent or poor ones).Your task is to predict the quality of wine using the given data.\n",
    "\n",
    "A simple yet challenging project, to anticipate the quality of wine.\n",
    "The complexity arises due to the fact that the dataset has fewer samples, & is highly imbalanced.\n",
    "Can you overcome these obstacles & build a good predictive model to classify them?"
   ]
  },
  {
   "cell_type": "markdown",
   "id": "d0db7d5b",
   "metadata": {},
   "source": [
    "## Description of Dataset:\n",
    "\n",
    "* `volatile acidity` :   Volatile acidity is the gaseous acids present in wine;\n",
    "* `fixed acidity` :   Primary fixed acids found in wine are tartaric, succinic, citric, and malic;\n",
    "* `residual sugar` :   Amount of sugar left after fermentation;\n",
    "* `citric acid` :    It is weak organic acid, found in citrus fruits naturally;\n",
    "* `chlorides` :   Amount of salt present in wine;\n",
    "* `free sulfur dioxide` :   So2 is used for prevention of wine by oxidation and microbial spoilage;\n",
    "* `total sulfur dioxide` ;\n",
    "* `pH` :   In wine pH is used for checking acidity;\n",
    "* `density` ;\n",
    "* `sulphates` :    Added sulfites preserve freshness and protect wine from oxidation, and bacteria;\n",
    "* `alcohol` :   Percent of alcohol present in wine;\n",
    "* `quality';\n",
    "* `id`."
   ]
  },
  {
   "cell_type": "code",
   "execution_count": null,
   "id": "a5234ad9",
   "metadata": {},
   "outputs": [],
   "source": []
  }
 ],
 "metadata": {
  "kernelspec": {
   "display_name": "Python 3 (ipykernel)",
   "language": "python",
   "name": "python3"
  },
  "language_info": {
   "codemirror_mode": {
    "name": "ipython",
    "version": 3
   },
   "file_extension": ".py",
   "mimetype": "text/x-python",
   "name": "python",
   "nbconvert_exporter": "python",
   "pygments_lexer": "ipython3",
   "version": "3.8.12"
  }
 },
 "nbformat": 4,
 "nbformat_minor": 5
}
